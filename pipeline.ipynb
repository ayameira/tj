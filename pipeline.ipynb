{
 "cells": [
  {
   "cell_type": "code",
   "execution_count": 2,
   "metadata": {},
   "outputs": [],
   "source": [
    "import os\n",
    "import json\n",
    "import random\n",
    "from openai import OpenAI\n",
    "from datetime import datetime"
   ]
  },
  {
   "cell_type": "code",
   "execution_count": 3,
   "metadata": {},
   "outputs": [],
   "source": [
    "OPENAI_API_KEY = \"sk-bbmDxDlAMbtbL6THJu7mo0gTmGbgI7yGUOPtAWHdIAT3BlbkFJo-sBd6zx_q4TfX9WMDGNgMiUmRkWP9BW7NYLhY5NkA\"\n",
    "NUM_EXAMPLES = 9\n",
    "MAX_VALIDATE = 1\n",
    "timestmp=datetime.now().strftime('%Y%m%d_%H%M%S')\n",
    "RESULTS_PATH = f'{NUM_EXAMPLES}-SHOT_{timestmp}'\n",
    "os.mkdir(RESULTS_PATH)\n",
    "data_filepath = './data.json'"
   ]
  },
  {
   "cell_type": "code",
   "execution_count": 4,
   "metadata": {},
   "outputs": [],
   "source": [
    "# ---------------- helpers ------------------ #\n",
    "def write_to_disk(data, filename): \n",
    "    path = f'{RESULTS_PATH}/{filename}.json'\n",
    "    with open(path, 'w', encoding='utf-8') as file:\n",
    "        json.dump(data, file, ensure_ascii=False, indent=4)\n",
    "\n",
    "def create_messages(examples):\n",
    "    messages = []\n",
    "    for sample in examples:\n",
    "        messages.extend([\n",
    "            {\n",
    "                \"role\": \"user\",\n",
    "                \"content\": [\n",
    "                    {\n",
    "                        \"text\": sample['dispositivo'],\n",
    "                        \"type\": \"text\"\n",
    "                    }\n",
    "                ]\n",
    "            },\n",
    "            {\n",
    "                \"role\": \"assistant\",\n",
    "                \"content\": [\n",
    "                    {\n",
    "                        \"text\": json.dumps(sample['decisoes']),\n",
    "                        \"type\": \"text\"\n",
    "                    }\n",
    "                ]\n",
    "            }\n",
    "        ])\n",
    "    return messages\n",
    "\n",
    "def get_completion(client, examples, dispositivo): \n",
    "    sys_message = [{\n",
    "        \"role\": \"system\",\n",
    "        \"content\": [\n",
    "            {\n",
    "                \"text\": \"Você é um assistente judicial que identifica e classifica as decisões contidas em uma sentença judicial. Cada decisão diz respeito a um pedido do autor.\",\n",
    "                \"type\": \"text\"\n",
    "            }\n",
    "        ]\n",
    "    }]\n",
    "    example_messages = create_messages(examples)\n",
    "    current_message = [{\n",
    "        \"role\": \"user\",\n",
    "        \"content\": [\n",
    "            {\n",
    "                \"text\": dispositivo,\n",
    "                \"type\": \"text\"\n",
    "            }\n",
    "        ]\n",
    "    }]\n",
    "    messages = sys_message + example_messages + current_message\n",
    "\n",
    "    response = client.chat.completions.create(\n",
    "        model=\"gpt-4o-mini\",\n",
    "        messages=messages,\n",
    "        temperature=0,\n",
    "        top_p=1,\n",
    "        frequency_penalty=0,\n",
    "        presence_penalty=0,\n",
    "        response_format={\n",
    "            \"type\": \"json_schema\",\n",
    "            \"json_schema\": {\n",
    "                \"name\": \"decisao_judicial\",\n",
    "                \"schema\": {\n",
    "                    \"type\": \"object\",\n",
    "                    \"required\": [\n",
    "                    \"decisoes\"\n",
    "                    ],\n",
    "                    \"properties\": {\n",
    "                    \"decisoes\": {\n",
    "                        \"type\": \"array\",\n",
    "                        \"items\": {\n",
    "                        \"type\": \"object\",\n",
    "                        \"required\": [\n",
    "                            \"pedido\",\n",
    "                            \"tipoDaDecisao\",\n",
    "                            \"textoDaDecisao\",\n",
    "                            \"valorDeferido\",\n",
    "                            \"obrigacaoDeFazer\"\n",
    "                        ],\n",
    "                        \"properties\": {\n",
    "                            \"pedido\": {\n",
    "                            \"enum\": [\n",
    "                                \"Danos morais\",\n",
    "                                \"Danos materiais\",\n",
    "                                \"Obrigação de fazer\",\n",
    "                                \"Declaratória\",\n",
    "                                \"Gratuidade da justiça\"\n",
    "                            ],\n",
    "                            \"type\": \"string\",\n",
    "                            \"title\": \"Pedido\"\n",
    "                            },\n",
    "                            \"tipoDaDecisao\": {\n",
    "                            \"enum\": [\n",
    "                                \"Procedente\",\n",
    "                                \"Improcedente\",\n",
    "                                \"Parcialmente procedente\",\n",
    "                                \"Não mencionado\"\n",
    "                            ],\n",
    "                            \"type\": \"string\"\n",
    "                            },\n",
    "                            \"valorDeferido\": {\n",
    "                            \"type\": \"number\"\n",
    "                            },\n",
    "                            \"textoDaDecisao\": {\n",
    "                            \"type\": \"string\"\n",
    "                            },\n",
    "                            \"obrigacaoDeFazer\": {\n",
    "                            \"type\": \"string\",\n",
    "                            \"title\": \"Descrição da obrigação de fazer, se for o caso\"\n",
    "                            }\n",
    "                        },\n",
    "                        \"additionalProperties\": False\n",
    "                        }\n",
    "                    }\n",
    "                    },\n",
    "                    \"additionalProperties\": False\n",
    "                },\n",
    "                \"strict\": True\n",
    "            }\n",
    "        }\n",
    "    )\n",
    "    decisoes = response.choices[0].message.content\n",
    "    return response\n"
   ]
  },
  {
   "cell_type": "code",
   "execution_count": 12,
   "metadata": {},
   "outputs": [],
   "source": [
    "client = OpenAI(\n",
    "    api_key=OPENAI_API_KEY\n",
    ")\n",
    "\n"
   ]
  },
  {
   "cell_type": "code",
   "execution_count": 15,
   "metadata": {},
   "outputs": [],
   "source": [
    "# load data \n",
    "with open(data_filepath, 'r', encoding='utf-8') as file:\n",
    "    data = json.load(file)\n",
    "    \n",
    "rand_sample = random.choice(data)\n",
    "data.remove(rand_sample)\n",
    "examples = [rand_sample]\n",
    "rand_sample = random.choice(data)\n",
    "data = [rand_sample]"
   ]
  },
  {
   "cell_type": "code",
   "execution_count": 16,
   "metadata": {},
   "outputs": [
    {
     "name": "stdout",
     "output_type": "stream",
     "text": [
      "ChatCompletion(id='chatcmpl-9xhQyoeBhWvc7KKWJIaY9r7lbvjmS', choices=[Choice(finish_reason='stop', index=0, logprobs=None, message=ChatCompletionMessage(content='{\"decisoes\":[{\"pedido\":\"Declaratória\",\"tipoDaDecisao\":\"Procedente\",\"valorDeferido\":0,\"textoDaDecisao\":\"Julgo procedente a ação, para consolidar a propriedade e a posse exclusiva do bem no patrimônio do(a) autor(a), tornando definitiva a liminar.\",\"obrigacaoDeFazer\":\"\"}]}', role='assistant', function_call=None, tool_calls=None, refusal=None))], created=1724015340, model='gpt-4o-mini-2024-07-18', object='chat.completion', system_fingerprint='fp_48196bc67a', usage=CompletionUsage(completion_tokens=75, prompt_tokens=415, total_tokens=490))\n"
     ]
    }
   ],
   "source": [
    "response = get_completion(client, examples, data[0]['dispositivo'])\n",
    "print(response)\n"
   ]
  },
  {
   "cell_type": "code",
   "execution_count": 26,
   "metadata": {},
   "outputs": [
    {
     "name": "stdout",
     "output_type": "stream",
     "text": [
      "{'id': 'chatcmpl-9xhQyoeBhWvc7KKWJIaY9r7lbvjmS', 'choices': [{'finish_reason': 'stop', 'index': 0, 'message_content': '{\"decisoes\":[{\"pedido\":\"Declaratória\",\"tipoDaDecisao\":\"Procedente\",\"valorDeferido\":0,\"textoDaDecisao\":\"Julgo procedente a ação, para consolidar a propriedade e a posse exclusiva do bem no patrimônio do(a) autor(a), tornando definitiva a liminar.\",\"obrigacaoDeFazer\":\"\"}]}', 'message_role': 'assistant'}], 'created': 1724015340, 'model': 'gpt-4o-mini-2024-07-18', 'object': 'chat.completion', 'usage': {'completion_tokens': 75, 'prompt_tokens': 415, 'total_tokens': 490}}\n"
     ]
    }
   ],
   "source": [
    "log_data = {\n",
    "    'id': response.id,\n",
    "    'choices': [\n",
    "        {\n",
    "            'finish_reason': choice.finish_reason,\n",
    "            'index': choice.index,\n",
    "            'message_content': choice.message.content,\n",
    "            'message_role': choice.message.role,\n",
    "        }\n",
    "        for choice in response.choices\n",
    "    ],\n",
    "    'created': response.created,\n",
    "    'model': response.model,\n",
    "    'object': response.object,\n",
    "    'usage': {\n",
    "        'completion_tokens': response.usage.completion_tokens,\n",
    "        'prompt_tokens': response.usage.prompt_tokens,\n",
    "        'total_tokens': response.usage.total_tokens,\n",
    "    }\n",
    "}\n",
    "\n",
    "print(log_data)"
   ]
  },
  {
   "cell_type": "code",
   "execution_count": 34,
   "metadata": {},
   "outputs": [
    {
     "name": "stdout",
     "output_type": "stream",
     "text": [
      "{'id': 1123, 'decisoes': [{'pedido': 'Declaratória', 'tipoDaDecisao': 'Procedente', 'valorDeferido': 0, 'textoDaDecisao': 'Julgo procedente a ação, para consolidar a propriedade e a posse exclusiva do bem no patrimônio do(a) autor(a), tornando definitiva a liminar.', 'obrigacaoDeFazer': ''}]}\n"
     ]
    }
   ],
   "source": [
    "decisoes = json.loads(response.choices[0].message.content)\n",
    "result = {\n",
    "    \"id\": 1123,\n",
    "    **decisoes\n",
    "}\n",
    "print(result)"
   ]
  }
 ],
 "metadata": {
  "kernelspec": {
   "display_name": "Python 3",
   "language": "python",
   "name": "python3"
  },
  "language_info": {
   "codemirror_mode": {
    "name": "ipython",
    "version": 3
   },
   "file_extension": ".py",
   "mimetype": "text/x-python",
   "name": "python",
   "nbconvert_exporter": "python",
   "pygments_lexer": "ipython3",
   "version": "3.10.5"
  }
 },
 "nbformat": 4,
 "nbformat_minor": 2
}
