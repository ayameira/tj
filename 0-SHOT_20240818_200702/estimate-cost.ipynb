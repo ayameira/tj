{
 "cells": [
  {
   "cell_type": "code",
   "execution_count": 2,
   "metadata": {},
   "outputs": [
    {
     "name": "stdout",
     "output_type": "stream",
     "text": [
      "['0000020-15.2024.8.26.0595.json', '0008426-88.2023.8.26.0068.json', '1000720-80.2024.8.26.0010.json', '1002234-63.2022.8.26.0002.json', '1002770-47.2024.8.26.0344.json', '1003547-98.2023.8.26.0495.json', '1003793-28.2024.8.26.0344.json', '1008016-91.2024.8.26.0451.json', '1021317-42.2023.8.26.0451.json', '1028559-20.2018.8.26.0001.json']\n",
      "303.6\n",
      "74.3\n",
      "45.54\n",
      "44.58\n"
     ]
    }
   ],
   "source": [
    "import os\n",
    "import json\n",
    "\n",
    "directory_path='./responses'\n",
    "files = [f for f in os.listdir(directory_path) if os.path.isfile(os.path.join(directory_path, f))]\n",
    "print(files)\n",
    "\n",
    "total_in_tokens = total_out_tokens = 0\n",
    "in_price = 0.15 / 1_000_000\n",
    "out_price = 0.6 / 1_000_000\n",
    "\n",
    "for f in files:\n",
    "    with open(f'{directory_path}/{f}', 'r', encoding='utf-8') as file:\n",
    "        data=json.load(file)\n",
    "        total_out_tokens += data['usage']['completion_tokens']\n",
    "        total_in_tokens += data['usage']['prompt_tokens']\n",
    "\n",
    "avg_out_tokens = total_out_tokens / len(files)\n",
    "avg_in_tokens = total_in_tokens / len(files)\n",
    "\n",
    "print(avg_in_tokens)\n",
    "print(avg_out_tokens)\n",
    "print(avg_in_tokens * 1_000_000 * in_price)\n",
    "print(avg_out_tokens * 1_000_000 * out_price)"
   ]
  },
  {
   "cell_type": "code",
   "execution_count": 3,
   "metadata": {},
   "outputs": [
    {
     "name": "stdout",
     "output_type": "stream",
     "text": [
      "0008426-88.2023.8.26.0068\n",
      "[{'pedido': 'Danos materiais', 'tipoDaDecisao': 'Procedente', 'valorDeferido': 2400, 'obrigacaoDeFazer': 'Estorno da compra realizada aos 28 de setembro de 2023.'}, {'pedido': 'Danos morais', 'tipoDaDecisao': 'Procedente', 'valorDeferido': 5000, 'obrigacaoDeFazer': ''}]\n",
      "[{'pedido': 'Obrigação de fazer', 'tipoDaDecisao': 'Procedente', 'obrigacaoDeFazer': 'Estorno da compra no valor de R$ 2.400,00, realizada aos 28 de setembro de 2023, reconduzindo a relação à situação anterior à mencionada utilização.'}, {'pedido': 'Danos morais', 'tipoDaDecisao': 'Procedente', 'valorDeferido': 5000}]\n",
      "1002234-63.2022.8.26.0002\n",
      "[{'pedido': 'Danos materiais', 'tipoDaDecisao': 'Procedente', 'valorDeferido': 77410.78, 'obrigacaoDeFazer': ''}]\n",
      "[{'pedido': 'Dano material', 'tipoDaDecisao': 'Procedente', 'valorDeferido': 77410.78}]\n",
      "1021317-42.2023.8.26.0451\n",
      "[{'pedido': 'Danos materiais', 'tipoDaDecisao': 'Parcialmente procedente', 'valorDeferido': 3093.3, 'obrigacaoDeFazer': ''}, {'pedido': 'Declaratória', 'tipoDaDecisao': 'Parcialmente procedente', 'valorDeferido': 0, 'obrigacaoDeFazer': 'Declarar a rescisão do contrato de prestação de serviços.'}]\n",
      "[{'pedido': 'Declaratória', 'tipoDaDecisao': 'Parcialmente procedente', 'obrigacaoDeFazer': 'Rescisão do contrato de prestação de serviços firmado entre as partes, consubstanciado na reserva registrada sob o nº RES082702-5705, referente às diárias no Hotel Laghetto Stilo Barra Rio, por culpa exclusiva da requerida, sem qualquer ônus ao consumidor.'}, {'pedido': 'Dano material', 'tipoDaDecisao': 'Parcialmente procedente', 'valorDeferido': 3093.3}]\n",
      "1003547-98.2023.8.26.0495\n",
      "[{'pedido': 'Danos morais', 'tipoDaDecisao': 'Procedente', 'valorDeferido': 10000, 'obrigacaoDeFazer': ''}, {'pedido': 'Declaratória', 'tipoDaDecisao': 'Procedente', 'valorDeferido': 0, 'obrigacaoDeFazer': 'Declarar inexistente a relação jurídica e a dívida que deu origem à inscrição indevida.'}]\n",
      "[{'pedido': 'Declaratória', 'tipoDaDecisao': 'Procedente', 'valorDeferido': None}, {'pedido': 'Dano moral', 'tipoDaDecisao': 'Procedente', 'valorDeferido': 10000}]\n",
      "1000720-80.2024.8.26.0010\n",
      "[{'pedido': 'Declaratória', 'tipoDaDecisao': 'Procedente', 'valorDeferido': 0, 'obrigacaoDeFazer': ''}]\n",
      "[{'pedido': 'Declaratória', 'tipoDaDecisao': 'Procedente', 'obrigacaoDeFazer': '', 'valorDeferido': None}]\n",
      "1028559-20.2018.8.26.0001\n",
      "[{'pedido': 'Obrigação de fazer', 'tipoDaDecisao': 'Procedente', 'valorDeferido': 0, 'obrigacaoDeFazer': 'Adjudicação do imóvel sito à rua Janauira, nº 17, antiga rua Aracy, no Jardim Pery.'}, {'pedido': 'Danos materiais', 'tipoDaDecisao': 'Procedente', 'valorDeferido': 0, 'obrigacaoDeFazer': 'Condenação dos Réus ao pagamento de custas, despesas processuais e honorários advocatícios.'}]\n",
      "[{'pedido': 'Obrigação de fazer', 'tipoDaDecisao': 'Procedente', 'obrigacaoDeFazer': 'Adjudicar o imóvel sito à rua Janauira, nº 17, antiga rua Aracy, no Jardim Pery, no 8º Subdistrito – Santana, contribuinte municipal nº 108.210.0131-1, matriculado sob nº 155.234 aos requerentes.', 'valorDeferido': None}]\n",
      "0000020-15.2024.8.26.0595\n",
      "[{'pedido': 'Danos materiais', 'tipoDaDecisao': 'Procedente', 'valorDeferido': 3717.5, 'obrigacaoDeFazer': ''}]\n",
      "[{'pedido': 'Dano material', 'tipoDaDecisao': 'Procedente', 'valorDeferido': 3717.5}]\n",
      "1002770-47.2024.8.26.0344\n",
      "[{'pedido': 'Danos morais', 'tipoDaDecisao': 'Procedente', 'valorDeferido': 60000, 'obrigacaoDeFazer': ''}, {'pedido': 'Obrigação de fazer', 'tipoDaDecisao': 'Procedente', 'valorDeferido': 0, 'obrigacaoDeFazer': 'Suspensão da exigibilidade das parcelas do financiamento e abstenção de atos de cobrança.'}, {'pedido': 'Gratuidade da justiça', 'tipoDaDecisao': 'Procedente', 'valorDeferido': 0, 'obrigacaoDeFazer': ''}, {'pedido': 'Danos materiais', 'tipoDaDecisao': 'Improcedente', 'valorDeferido': 0, 'obrigacaoDeFazer': ''}]\n",
      "[{'pedido': 'Obrigação de fazer', 'tipoDaDecisao': 'Procedente', 'obrigacaoDeFazer': 'Suspensão da exigibilidade das parcelas do financiamento e abstenção de promover atos de cobrança, incluindo eventual negativação.'}, {'pedido': 'Dano moral', 'tipoDaDecisao': 'Procedente', 'valorDeferido': 60000}, {'pedido': 'Gratuidade da justiça', 'tipoDaDecisao': 'Procedente'}, {'pedido': 'Dano material', 'tipoDaDecisao': 'Improcedente'}]\n",
      "1003793-28.2024.8.26.0344\n",
      "[{'pedido': 'Danos materiais', 'tipoDaDecisao': 'Procedente', 'valorDeferido': 557.59, 'obrigacaoDeFazer': ''}]\n",
      "[{'pedido': 'Dano material', 'tipoDaDecisao': 'Procedente', 'valorDeferido': 557.59}]\n",
      "1008016-91.2024.8.26.0451\n",
      "[{'pedido': 'Danos materiais', 'tipoDaDecisao': 'Parcialmente procedente', 'valorDeferido': 2702.8, 'obrigacaoDeFazer': ''}]\n",
      "[{'pedido': 'Dano material', 'tipoDaDecisao': 'Parcialmente procedente', 'valorDeferido': 2702.8}]\n"
     ]
    }
   ],
   "source": [
    "with open('all_results.json', 'r', encoding='utf-8') as file:\n",
    "    results = json.load(file)\n",
    "\n",
    "with open('data.json', 'r', encoding='utf-8') as file:\n",
    "    samples = json.load(file)\n",
    "\n",
    "for result in results:\n",
    "    id = result['id']\n",
    "    print(result['id'])\n",
    "    print(result['decisoes'])\n",
    "    item_with_id = [item for item in samples if item[\"id\"] == id][0]\n",
    "    print(item_with_id['decisoes'])\n",
    "\n",
    "\n",
    "# checar o número de pedidos\n",
    "# checar a classificação do pedido\n",
    "# checar a classificação da decisão\n",
    "# checar o valor deferido"
   ]
  }
 ],
 "metadata": {
  "kernelspec": {
   "display_name": "Python 3",
   "language": "python",
   "name": "python3"
  },
  "language_info": {
   "codemirror_mode": {
    "name": "ipython",
    "version": 3
   },
   "file_extension": ".py",
   "mimetype": "text/x-python",
   "name": "python",
   "nbconvert_exporter": "python",
   "pygments_lexer": "ipython3",
   "version": "3.10.5"
  }
 },
 "nbformat": 4,
 "nbformat_minor": 2
}
